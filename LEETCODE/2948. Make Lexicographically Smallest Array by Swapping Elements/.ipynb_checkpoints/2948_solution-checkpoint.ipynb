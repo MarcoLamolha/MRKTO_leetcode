{
 "cells": [
  {
   "cell_type": "markdown",
   "metadata": {},
   "source": [
    "## Algorithm\n",
    "Create a sorted copy of the input array nums called numsSorted.\n",
    "\n",
    "Initialize variables:\n",
    "\n",
    "currGroup to track the current group index.\n",
    "numToGroup, a map to associate each number with its group.\n",
    "groupToList, a map to associate each group with a list of numbers that belong to it.\n",
    "Sort the numsSorted array.\n",
    "\n",
    "Assign the first element of numsSorted to group 0:\n",
    "\n",
    "Add the element to groupToList under group 0.\n",
    "Iterate through the rest of numsSorted:\n",
    "\n",
    "If the difference between the current element and the previous one is greater than limit, increment currGroup (indicating a new group).\n",
    "Assign the current element to the correct group in numToGroup.\n",
    "Add the element to the corresponding list in groupToList.\n",
    "Iterate through the original nums array:\n",
    "\n",
    "For each element, retrieve its group from numToGroup.\n",
    "Replace the element with the next element from its corresponding group in groupToList.\n",
    "Return the modified nums array, which is now the lexicographically smallest array after applying the group-wise sorting."
   ]
  },
  {
   "cell_type": "code",
   "execution_count": null,
   "metadata": {},
   "outputs": [],
   "source": [
    "class Solution:\n",
    "    def lexicographicallySmallestArray(self, nums, limit):\n",
    "        nums_sorted = sorted(nums)\n",
    "\n",
    "        curr_group = 0\n",
    "        num_to_group = {}\n",
    "        num_to_group[nums_sorted[0]] = curr_group\n",
    "\n",
    "        group_to_list = {}\n",
    "        group_to_list[curr_group] = deque([nums_sorted[0]])\n",
    "\n",
    "        for i in range(1, len(nums)):\n",
    "            if abs(nums_sorted[i] - nums_sorted[i - 1]) > limit:\n",
    "                # new group\n",
    "                curr_group += 1\n",
    "\n",
    "            # assign current element to group\n",
    "            num_to_group[nums_sorted[i]] = curr_group\n",
    "\n",
    "            # add element to sorted group deque\n",
    "            if curr_group not in group_to_list:\n",
    "                group_to_list[curr_group] = deque()\n",
    "            group_to_list[curr_group].append(nums_sorted[i])\n",
    "\n",
    "        # iterate through input and overwrite each element with the next element in its corresponding group\n",
    "        for i in range(len(nums)):\n",
    "            num = nums[i]\n",
    "            group = num_to_group[num]\n",
    "            nums[i] = group_to_list[group].popleft()\n",
    "\n",
    "        return nums"
   ]
  },
  {
   "cell_type": "code",
   "execution_count": null,
   "metadata": {},
   "outputs": [],
   "source": [
    "nums_1 = [1,5,3,9,8]\n",
    "print(Solution().lexicographicallySmallestArray(nums_1, 2)) # [1,3,5,8,9]\n"
   ]
  }
 ],
 "metadata": {
  "language_info": {
   "name": "python"
  }
 },
 "nbformat": 4,
 "nbformat_minor": 2
}
