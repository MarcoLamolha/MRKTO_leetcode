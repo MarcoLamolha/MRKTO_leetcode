{
 "cells": [
  {
   "cell_type": "markdown",
   "metadata": {},
   "source": [
    "# Approach: Depth First Search\n"
   ]
  },
  {
   "cell_type": "markdown",
   "metadata": {},
   "source": [
    "### Intuition\n",
    "\n",
    "We can also use a depth-first search (DFS) traversal to detect the nodes that lead to a cycle, i.e., unsafe nodes.\n",
    "\n",
    "In DFS, we use a recursive function to explore nodes as far as possible along each branch. Upon reaching the end of a branch, we backtrack to the previous node and continue exploring the next branches.\n",
    "\n",
    "Once we encounter an unvisited node, we will take one of its neighbor nodes (if exists) as the next node on this branch. Recursively call the function to take the next node as the 'starting node' and solve the subproblem.\n",
    "\n",
    "A node remains in the DFS recursion stack until all of its branches (all nodes in its subtree) have not been explored. When we have examined all of a node's branches, i.e. visited all of the nodes in its subtree, the node is removed from the DFS recursive stack.\n",
    "\n",
    "If you are new to Depth First Search, please see our Leetcode Explore Card for more information on it!\n",
    "\n",
    "To find the unsafe nodes, we must first recognize a cycle in the graph. If we find a cycle, we will mark all of the nodes in the cycle as unsafe and then go back and mark all of the nodes that led to this cycle as unsafe. Let's find a cycle first.\n",
    "\n",
    "If the graph has a cycle, we must have a back edge connecting a node to one of its ancestors while traversing nodes in the DFS manner.\n",
    "\n",
    "Let's think how we can establish whether or not a node's neighbor is an ancestor when navigating from one node to another.\n",
    "\n",
    "If the neighboring node has not yet been visited, it cannot be an ancestor (it is a child node).\n",
    "\n",
    "Otherwise, if a neighboring node is visited, it may or may not be an ancestor. If the neighboring node is an ancestor, i.e. there is a back edge, it means that we visited this ancestor node first in the DFS traversal, then visited and explored some other nodes, and eventually visited a node that connects back to the ancestor node. As we are still exploring the ancestor node's subtree while iterating over this path, hence this node must be in the current DFS recursive stack.\n",
    "\n",
    "However, if a neighboring node is visited but not in the recursion stack, it signifies we have previously explored that node in a different branch, and it does not form a cycle in the current branch.\n",
    "\n",
    "As a result, to detect the cycle we must keep track of the visited nodes (like in a normal DFS) and also the nodes in the function's recursion call stack for DFS traversal. The nodes in the stack store the current path that we are on. There is a cycle in the graph if a node is reached that is already in the recursion stack. We use a boolean array inStack of length n to track which nodes are in the call stack so we can check if a node exists in O(1). Note that this inStack array is emulating the call stack that the computer is using under the hood to execute recursion. We mark an unvisited node in inStack when we make a recursive call to it and then unmark it when we return from that call.\n",
    "\n",
    "Now that we've identified the cycle, let's look for the unsafe nodes. When we get a cycle, all of the nodes in the recursion stack either form or lead to a cycle. If we start a DFS traversal from node 1 in a graph 1 -> 2 -> 3 -> 4 -> 2, nodes 2, 3, and 4 form a cycle. When we discovered this cycle, node 1 was also in the stack. So, when we have a cycle, all the nodes in the recursion stack are unsafe since they form or lead to a loop.\n",
    "\n",
    "In addition to detecting cycles, we can use the same inStack array to store the unsafe nodes. We do not unmark any of the unsafe nodes from inStack to keep track of them. When any node has an outgoing edge to any of the unsafe nodes, we can immediately return the DFS call for node without unmarking it from inStack, i.e, we do not perform inStack[node] = false. This is because if any neighbor of node is marked inStack, it signifies that either neighbor and node are part of a cycle or neighbor is a previously detected unsafe node. In both the cases, node is also an unsafe node and hence we return the DFS call without unmarking node from inStack.\n",
    "\n",
    "We only unmark a node from inStack, if we have explored all of its branches and no branch leads to an unsafe node."
   ]
  },
  {
   "cell_type": "markdown",
   "metadata": {},
   "source": [
    "### Algorithm\n",
    "\n",
    "Here, we can use the input graph as the adjacency list adj\n",
    "\n",
    "Create two boolean arrays, visit and inStack, each of size n. The visit array keeps track of visited nodes and inStack keeps track of nodes that are currently in the ongoing DFS stack. It will help us to detect a cycle in the graph and the unsafe nodes.\n",
    "For each node we begin a DFS traversal. We implement the dfs method which takes four parameters: an integer node from which the current traversal begins, adj, visit, and inStack. It returns a boolean indicating whether node is unsafe. We perform the following in this method:\n",
    "If node is already present in inStack, either we just got a cycle or a previously detected unsafe node. We return true in this case as the node is unsafe.\n",
    "If node is already visited (but not in inStack), we return false because we already visited this node and didn't find it as unsafe node. It is a safe node.\n",
    "We mark node as visited and also mark it in inStack (inStack[node] = true).\n",
    "We iterate over all the outgoing edges of node and for each neighbor, we recursively call dfs(neighbor, adj, visit, inStack). If we get a cycle from neighbor (or neighbor is a previously detected unsafe node), we return true without unmarking node in inStack.\n",
    "After we have processed all the outgoing edges of node, we mark inStack[node] = false to mark node as safe. We return false.\n",
    "Create an answer array safeNodes of size n. Iterate over all the nodes from 0 to n - 1 and add all the safe nodes in safeNodes, i.e., the nodes with inStack[node] == false.\n",
    "Return safeNodes."
   ]
  },
  {
   "cell_type": "code",
   "execution_count": 5,
   "metadata": {},
   "outputs": [],
   "source": [
    "from typing import List\n",
    "\n",
    "class Solution:\n",
    "    def dfs(self, node, adj, visit, inStack):\n",
    "        # If the node is already in the stack, we have a cycle.\n",
    "        if inStack[node]:\n",
    "            return True\n",
    "        if visit[node]:\n",
    "            return False\n",
    "        # Mark the current node as visited and part of current recursion stack.\n",
    "        visit[node] = True\n",
    "        inStack[node] = True\n",
    "        for neighbor in adj[node]:\n",
    "            if self.dfs(neighbor, adj, visit, inStack):\n",
    "                return True\n",
    "        # Remove the node from the stack.\n",
    "        inStack[node] = False\n",
    "        return False\n",
    "\n",
    "    def eventualSafeNodes(self, graph: List[List[int]]) -> List[int]:\n",
    "        n = len(graph)\n",
    "\n",
    "        visit = [False] * n\n",
    "        inStack = [False] * n\n",
    "\n",
    "        for i in range(n):\n",
    "            self.dfs(i, graph, visit, inStack)\n",
    "\n",
    "        safeNodes = []\n",
    "        for i in range(n):\n",
    "            if not inStack[i]:\n",
    "                safeNodes.append(i)\n",
    "\n",
    "        return safeNodes"
   ]
  },
  {
   "cell_type": "code",
   "execution_count": 6,
   "metadata": {},
   "outputs": [
    {
     "name": "stdout",
     "output_type": "stream",
     "text": [
      "[2, 4, 5, 6]\n",
      "[6]\n",
      "[4]\n"
     ]
    }
   ],
   "source": [
    "graph_1 = [[1,2],[2,3],[5],[0],[5],[],[]]\n",
    "print(Solution().eventualSafeNodes(graph_1))\n",
    "\n",
    "graph_2 = [[1,2],[2,3],[5],[0],[5],[2],[]]\n",
    "print(Solution().eventualSafeNodes(graph_2))\n",
    "\n",
    "graph_3 = [[1,2,3,4],[1,2],[3,4],[0,4],[]]\n",
    "print(Solution().eventualSafeNodes(graph_3))"
   ]
  }
 ],
 "metadata": {
  "kernelspec": {
   "display_name": "Python 3",
   "language": "python",
   "name": "python3"
  },
  "language_info": {
   "codemirror_mode": {
    "name": "ipython",
    "version": 3
   },
   "file_extension": ".py",
   "mimetype": "text/x-python",
   "name": "python",
   "nbconvert_exporter": "python",
   "pygments_lexer": "ipython3",
   "version": "3.12.1"
  }
 },
 "nbformat": 4,
 "nbformat_minor": 2
}
